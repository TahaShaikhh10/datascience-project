{
 "cells": [
  {
   "cell_type": "code",
   "execution_count": 1,
   "id": "f7fbdee2",
   "metadata": {},
   "outputs": [
    {
     "name": "stdout",
     "output_type": "stream",
     "text": [
      "👉 Current working dir set to: c:\\Users\\HP\\Desktop\\MLops\\datascience-project\n"
     ]
    }
   ],
   "source": [
    "import os\n",
    "\n",
    "# project root set karna\n",
    "os.chdir(\"c:/Users/HP/Desktop/MLops/datascience-project\")\n",
    "\n",
    "print(\"👉 Current working dir set to:\", os.getcwd())\n"
   ]
  },
  {
   "cell_type": "code",
   "execution_count": 2,
   "id": "090b494f",
   "metadata": {},
   "outputs": [
    {
     "data": {
      "text/plain": [
       "'c:\\\\Users\\\\HP\\\\Desktop\\\\MLops\\\\datascience-project'"
      ]
     },
     "execution_count": 2,
     "metadata": {},
     "output_type": "execute_result"
    }
   ],
   "source": [
    "%pwd"
   ]
  },
  {
   "cell_type": "code",
   "execution_count": 3,
   "id": "8bf34a3a",
   "metadata": {},
   "outputs": [],
   "source": [
    "from dataclasses import dataclass\n",
    "from pathlib import Path\n",
    "\n",
    "@dataclass\n",
    "class DataIngestionConfig:\n",
    "    root_dir: Path\n",
    "    source_URL: str\n",
    "    local_data_file: Path\n",
    "    unzip_dir: Path"
   ]
  },
  {
   "cell_type": "code",
   "execution_count": 4,
   "id": "78b8e95d",
   "metadata": {},
   "outputs": [],
   "source": [
    "from src.datascience.constants import *"
   ]
  },
  {
   "cell_type": "code",
   "execution_count": 5,
   "id": "a9e288e3",
   "metadata": {},
   "outputs": [],
   "source": [
    "from src.datascience.utils.common import read_yaml, create_directories"
   ]
  },
  {
   "cell_type": "code",
   "execution_count": 6,
   "id": "25a5cfcd",
   "metadata": {},
   "outputs": [],
   "source": [
    "class ConfigurationManager:\n",
    "    def __init__ (self,\n",
    "        config_file_path = CONFIG_FILE_PATH,\n",
    "        params_file_path = PARAMS_FILE_PATH,\n",
    "        schema_file_path = SCHEMA_FILE_PATH\n",
    "    ):\n",
    "        self.config = read_yaml(config_file_path)\n",
    "        self.params = read_yaml(params_file_path)\n",
    "        self.schema = read_yaml(schema_file_path)\n",
    "\n",
    "        create_directories([self.config.artifacts_root])\n",
    "\n",
    "    def get_data_ingestion_config(self)-> DataIngestionConfig:\n",
    "        config=self.config.data_ingestion\n",
    "        create_directories([config.root_dir])\n",
    "\n",
    "        data_ingestion_config=DataIngestionConfig(\n",
    "            root_dir=config.root_dir,\n",
    "            source_URL=config.source_URL,\n",
    "            local_data_file=config.local_data_file,\n",
    "            unzip_dir=config.unzip_dir\n",
    "\n",
    "        )\n",
    "        return data_ingestion_config"
   ]
  },
  {
   "cell_type": "code",
   "execution_count": 7,
   "id": "dd93d199",
   "metadata": {},
   "outputs": [],
   "source": [
    "import os\n",
    "import urllib.request as request\n",
    "from src.datascience import logger\n",
    "import zipfile"
   ]
  },
  {
   "cell_type": "code",
   "execution_count": 8,
   "id": "8c64a5b2",
   "metadata": {},
   "outputs": [],
   "source": [
    "class DataIngestion:\n",
    "    def __init__(self, config: DataIngestionConfig):\n",
    "        self.config = config\n",
    "\n",
    "     # Downloading the zip file\n",
    "    def download_file(self):\n",
    "        if not os.path.exists(self.config.local_data_file):\n",
    "            filename, headers = request.urlretrieve(\n",
    "                url = self.config.source_URL,\n",
    "                filename = self.config.local_data_file\n",
    "            )\n",
    "            logger.info(f\"{filename} download! with following info: \\n{headers}\")\n",
    "        else:\n",
    "            logger.info(f\"File already exists\")\n",
    "\n",
    "    def extract_zip_file(self):\n",
    "        \"\"\"\n",
    "        zip_file_path: str\n",
    "        Extracts the zip file into the data directory\n",
    "        Function returns None\n",
    "        \"\"\"\n",
    "        unzip_path = self.config.unzip_dir\n",
    "        os.makedirs(unzip_path, exist_ok=True)\n",
    "        with zipfile.ZipFile(self.config.local_data_file, 'r') as zip_ref:\n",
    "            zip_ref.extractall(unzip_path)"
   ]
  },
  {
   "cell_type": "markdown",
   "id": "5950650f",
   "metadata": {},
   "source": [
    "## Configuration Management "
   ]
  },
  {
   "cell_type": "code",
   "execution_count": 9,
   "id": "4c84ca62",
   "metadata": {},
   "outputs": [
    {
     "name": "stdout",
     "output_type": "stream",
     "text": [
      "[2025-08-18 03:46:46,987: INFO: common: YAML file config\\config.yaml loaded successfully.:]\n",
      "[2025-08-18 03:46:46,991: INFO: common: YAML file params.yaml loaded successfully.:]\n",
      "[2025-08-18 03:46:46,996: INFO: common: YAML file schema.yaml loaded successfully.:]\n",
      "[2025-08-18 03:46:46,998: INFO: common: created directory at: artifacts:]\n",
      "[2025-08-18 03:46:47,000: INFO: common: created directory at: artifacts/data_ingestion:]\n",
      "[2025-08-18 03:46:48,166: INFO: 1452861783: artifacts/data_ingestion/data.zip download! with following info: \n",
      "Connection: close\n",
      "Content-Length: 23329\n",
      "Cache-Control: max-age=300\n",
      "Content-Security-Policy: default-src 'none'; style-src 'unsafe-inline'; sandbox\n",
      "Content-Type: application/zip\n",
      "ETag: \"c69888a4ae59bc5a893392785a938ccd4937981c06ba8a9d6a21aa52b4ab5b6e\"\n",
      "Strict-Transport-Security: max-age=31536000\n",
      "X-Content-Type-Options: nosniff\n",
      "X-Frame-Options: deny\n",
      "X-XSS-Protection: 1; mode=block\n",
      "X-GitHub-Request-Id: F06C:3DFB49:2217AF0:2712ACD:68A30497\n",
      "Accept-Ranges: bytes\n",
      "Date: Mon, 18 Aug 2025 10:46:49 GMT\n",
      "Via: 1.1 varnish\n",
      "X-Served-By: cache-mrs10562-MRS\n",
      "X-Cache: MISS\n",
      "X-Cache-Hits: 0\n",
      "X-Timer: S1755514009.994747,VS0,VE133\n",
      "Vary: Authorization,Accept-Encoding\n",
      "Access-Control-Allow-Origin: *\n",
      "Cross-Origin-Resource-Policy: cross-origin\n",
      "X-Fastly-Request-ID: 5da545ec2ea5b7d9ea3ecc7849c355b5583de2b9\n",
      "Expires: Mon, 18 Aug 2025 10:51:49 GMT\n",
      "Source-Age: 0\n",
      "\n",
      ":]\n"
     ]
    }
   ],
   "source": [
    "try:\n",
    "    config=ConfigurationManager()\n",
    "    data_ingestion_config=config.get_data_ingestion_config()\n",
    "    data_ingestion=DataIngestion(config=data_ingestion_config)\n",
    "    data_ingestion.download_file()\n",
    "    data_ingestion.extract_zip_file()\n",
    "except Exception as e:\n",
    "    raise e"
   ]
  },
  {
   "cell_type": "markdown",
   "id": "3f7c1ea9",
   "metadata": {},
   "source": [
    "## BELOW CELL IS FOR MY UNDERSTANDING ONLY"
   ]
  },
  {
   "cell_type": "code",
   "execution_count": 10,
   "id": "fdd87183",
   "metadata": {},
   "outputs": [
    {
     "name": "stdout",
     "output_type": "stream",
     "text": [
      "👉 Current Working Directory: c:\\Users\\HP\\Desktop\\MLops\\datascience-project\n",
      "👉 CONFIG_FILE_PATH (relative): config\\config.yaml\n",
      "👉 CONFIG_FILE_PATH (absolute): c:\\Users\\HP\\Desktop\\MLops\\datascience-project\\config\\config.yaml\n",
      "👉 File exists? -> True\n"
     ]
    }
   ],
   "source": [
    "import os\n",
    "from src.datascience.constants import CONFIG_FILE_PATH\n",
    "\n",
    "print(\"👉 Current Working Directory:\", os.getcwd())\n",
    "print(\"👉 CONFIG_FILE_PATH (relative):\", CONFIG_FILE_PATH)\n",
    "print(\"👉 CONFIG_FILE_PATH (absolute):\", os.path.abspath(CONFIG_FILE_PATH))\n",
    "print(\"👉 File exists? ->\", os.path.exists(CONFIG_FILE_PATH))\n"
   ]
  },
  {
   "cell_type": "code",
   "execution_count": null,
   "id": "c060d389",
   "metadata": {},
   "outputs": [],
   "source": []
  }
 ],
 "metadata": {
  "kernelspec": {
   "display_name": "venv",
   "language": "python",
   "name": "python3"
  },
  "language_info": {
   "codemirror_mode": {
    "name": "ipython",
    "version": 3
   },
   "file_extension": ".py",
   "mimetype": "text/x-python",
   "name": "python",
   "nbconvert_exporter": "python",
   "pygments_lexer": "ipython3",
   "version": "3.11.5"
  }
 },
 "nbformat": 4,
 "nbformat_minor": 5
}
